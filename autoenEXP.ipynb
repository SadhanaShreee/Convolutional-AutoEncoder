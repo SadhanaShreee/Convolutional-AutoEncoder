{
  "cells": [
    {
      "cell_type": "code",
      "execution_count": null,
      "metadata": {
        "id": "UjiSNkg_LvT3"
      },
      "outputs": [],
      "source": [
        "# Autoencoder for Image Denoising using PyTorch\n",
        "\n",
        "import torch\n",
        "import torch.nn as nn\n",
        "import torch.optim as optim\n",
        "from torch.utils.data import DataLoader\n",
        "from torchvision import datasets, transforms\n",
        "import matplotlib.pyplot as plt\n",
        "import numpy as np\n",
        "from torchsummary import summary\n"
      ]
    },
    {
      "cell_type": "code",
      "execution_count": null,
      "metadata": {
        "id": "pa91P1dCL7YL"
      },
      "outputs": [],
      "source": [
        "# Device configuration\n",
        "device = torch.device(\"cuda\" if torch.cuda.is_available() else \"cpu\")\n"
      ]
    },
    {
      "cell_type": "code",
      "execution_count": null,
      "metadata": {
        "id": "KqGm7bXlMAhk"
      },
      "outputs": [],
      "source": [
        "# Transform: Normalize and convert to tensor\n",
        "transform = transforms.Compose([\n",
        "    transforms.ToTensor()\n",
        "])"
      ]
    },
    {
      "cell_type": "code",
      "execution_count": null,
      "metadata": {
        "id": "Lur82IIsMBy8"
      },
      "outputs": [],
      "source": [
        "# Load MNIST dataset\n",
        "dataset = datasets.MNIST(root='./data', train=True, download=True, transform=transform)\n",
        "test_dataset = datasets.MNIST(root='./data', train=False, download=True, transform=transform)\n",
        "\n",
        "train_loader = DataLoader(dataset, batch_size=128, shuffle=True)\n",
        "test_loader = DataLoader(test_dataset, batch_size=128, shuffle=False)\n"
      ]
    },
    {
      "cell_type": "code",
      "execution_count": null,
      "metadata": {
        "id": "EQxkVQefMIYz"
      },
      "outputs": [],
      "source": [
        "# Add noise to images\n",
        "def add_noise(inputs, noise_factor=0.5):\n",
        "    noisy = inputs + noise_factor * torch.randn_like(inputs)\n",
        "    return torch.clamp(noisy, 0., 1.)\n"
      ]
    },
    {
      "cell_type": "code",
      "execution_count": null,
      "metadata": {
        "id": "SYqeZgc0MNGj"
      },
      "outputs": [],
      "source": [
        "# Define Autoencoder\n",
        "class DenoisingAutoencoder(nn.Module):\n",
        "    def __init__(self):\n",
        "        # Include your code here\n",
        "\n",
        "\n",
        "\n",
        "    def forward(self, x):\n",
        "        # Include your code here\n",
        "\n",
        "\n",
        "\n",
        "\n"
      ]
    },
    {
      "cell_type": "code",
      "execution_count": null,
      "metadata": {
        "id": "oDJRsmdrMP8r"
      },
      "outputs": [],
      "source": [
        "# Initialize model, loss function and optimizer\n",
        "model =\n",
        "criterion =\n",
        "optimizer ="
      ]
    },
    {
      "cell_type": "code",
      "execution_count": null,
      "metadata": {
        "id": "gmKa6KBJMX-0"
      },
      "outputs": [],
      "source": [
        "# Print model summary\n",
        "summary(model, input_size=(1, 28, 28))"
      ]
    },
    {
      "cell_type": "code",
      "execution_count": null,
      "metadata": {
        "id": "q7fTF7iBMr7G"
      },
      "outputs": [],
      "source": [
        "# Train the autoencoder\n",
        "def train(model, loader, criterion, optimizer, epochs=5):\n",
        "    # Include your code here\n",
        "\n",
        "\n",
        "\n"
      ]
    },
    {
      "cell_type": "code",
      "execution_count": null,
      "metadata": {
        "id": "9PdreRQ-Mvaj"
      },
      "outputs": [],
      "source": [
        "# Evaluate and visualize\n",
        "def visualize_denoising(model, loader, num_images=10):\n",
        "    model.eval()\n",
        "    with torch.no_grad():\n",
        "        for images, _ in loader:\n",
        "            images = images.to(device)\n",
        "            noisy_images = add_noise(images).to(device)\n",
        "            outputs = model(noisy_images)\n",
        "            break\n",
        "\n",
        "    images = images.cpu().numpy()\n",
        "    noisy_images = noisy_images.cpu().numpy()\n",
        "    outputs = outputs.cpu().numpy()\n",
        "\n",
        "    \n",
        "    plt.figure(figsize=(18, 6))\n",
        "    for i in range(num_images):\n",
        "        # Original\n",
        "        ax = plt.subplot(3, num_images, i + 1)\n",
        "        plt.imshow(images[i].squeeze(), cmap='gray')\n",
        "        ax.set_title(\"Original\")\n",
        "        plt.axis(\"off\")\n",
        "\n",
        "        # Noisy\n",
        "        ax = plt.subplot(3, num_images, i + 1 + num_images)\n",
        "        plt.imshow(noisy_images[i].squeeze(), cmap='gray')\n",
        "        ax.set_title(\"Noisy\")\n",
        "        plt.axis(\"off\")\n",
        "\n",
        "        # Denoised\n",
        "        ax = plt.subplot(3, num_images, i + 1 + 2 * num_images)\n",
        "        plt.imshow(outputs[i].squeeze(), cmap='gray')\n",
        "        ax.set_title(\"Denoised\")\n",
        "        plt.axis(\"off\")\n",
        "\n",
        "    plt.tight_layout()\n",
        "    plt.show()\n"
      ]
    },
    {
      "cell_type": "code",
      "execution_count": null,
      "metadata": {
        "id": "93hYm-rvM8DT"
      },
      "outputs": [],
      "source": [
        "# Run training and visualization\n",
        "train(model, train_loader, criterion, optimizer, epochs=5)\n",
        "visualize_denoising(model, test_loader)"
      ]
    }
  ],
  "metadata": {
    "colab": {
      "provenance": []
    },
    "kernelspec": {
      "display_name": "Python 3",
      "name": "python3"
    },
    "language_info": {
      "name": "python"
    }
  },
  "nbformat": 4,
  "nbformat_minor": 0
}
